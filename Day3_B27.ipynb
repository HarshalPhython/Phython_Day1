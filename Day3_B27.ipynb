{
 "cells": [
  {
   "cell_type": "code",
   "execution_count": 1,
   "metadata": {},
   "outputs": [
    {
     "name": "stdout",
     "output_type": "stream",
     "text": [
      "harshal shah\n"
     ]
    }
   ],
   "source": [
    "name = 'harshal shah'\n",
    "print(name)"
   ]
  },
  {
   "cell_type": "code",
   "execution_count": null,
   "metadata": {},
   "outputs": [],
   "source": [
    "convert the name in proper format"
   ]
  },
  {
   "cell_type": "code",
   "execution_count": 4,
   "metadata": {},
   "outputs": [
    {
     "name": "stdout",
     "output_type": "stream",
     "text": [
      "Harshal Shah\n"
     ]
    }
   ],
   "source": [
    "print(name.title()) #titlecase or camelcase..."
   ]
  },
  {
   "cell_type": "code",
   "execution_count": null,
   "metadata": {},
   "outputs": [],
   "source": []
  },
  {
   "cell_type": "code",
   "execution_count": null,
   "metadata": {},
   "outputs": [],
   "source": [
    "req: to convert the name in totally to capital letter"
   ]
  },
  {
   "cell_type": "code",
   "execution_count": 5,
   "metadata": {},
   "outputs": [
    {
     "name": "stdout",
     "output_type": "stream",
     "text": [
      "HARSHAL SHAH\n"
     ]
    }
   ],
   "source": [
    "print(name.upper()) #uppercase.."
   ]
  },
  {
   "cell_type": "code",
   "execution_count": null,
   "metadata": {},
   "outputs": [],
   "source": [
    "req: to convert all the letter in small case."
   ]
  },
  {
   "cell_type": "code",
   "execution_count": 8,
   "metadata": {},
   "outputs": [
    {
     "name": "stdout",
     "output_type": "stream",
     "text": [
      "nishka shah\n"
     ]
    }
   ],
   "source": [
    "name1 = \"Nishka SHAH\"\n",
    "print(name1.lower())  #lowercase..."
   ]
  },
  {
   "cell_type": "code",
   "execution_count": null,
   "metadata": {},
   "outputs": [],
   "source": [
    "introduction to f strings: **"
   ]
  },
  {
   "cell_type": "code",
   "execution_count": null,
   "metadata": {},
   "outputs": [],
   "source": [
    "General syntax of a an f string: \n",
    "    f\"{placeholder1} {placeholder2}.....{nplaceholders}\"\""
   ]
  },
  {
   "cell_type": "code",
   "execution_count": null,
   "metadata": {},
   "outputs": [],
   "source": []
  },
  {
   "cell_type": "code",
   "execution_count": 19,
   "metadata": {},
   "outputs": [],
   "source": [
    "first_name = 'Vinod'\n",
    "last_name = 'Shah'"
   ]
  },
  {
   "cell_type": "code",
   "execution_count": 26,
   "metadata": {},
   "outputs": [
    {
     "name": "stdout",
     "output_type": "stream",
     "text": [
      "req: to get full name\n"
     ]
    }
   ],
   "source": [
    "print('req: to get full name')"
   ]
  },
  {
   "cell_type": "code",
   "execution_count": 21,
   "metadata": {},
   "outputs": [
    {
     "name": "stdout",
     "output_type": "stream",
     "text": [
      "Vinod Shah\n"
     ]
    }
   ],
   "source": [
    "full_name = f\"{first_name} {last_name}\"\n",
    "print(full_name)"
   ]
  },
  {
   "cell_type": "code",
   "execution_count": null,
   "metadata": {},
   "outputs": [],
   "source": [
    "req: i want to greet above name"
   ]
  },
  {
   "cell_type": "code",
   "execution_count": 22,
   "metadata": {},
   "outputs": [
    {
     "name": "stdout",
     "output_type": "stream",
     "text": [
      "Hello, Vinod Shah\n"
     ]
    }
   ],
   "source": [
    "print(f\"Hello, {full_name.title()}\")"
   ]
  },
  {
   "cell_type": "code",
   "execution_count": null,
   "metadata": {},
   "outputs": [],
   "source": []
  },
  {
   "cell_type": "code",
   "execution_count": null,
   "metadata": {},
   "outputs": [],
   "source": [
    "adding white space:"
   ]
  },
  {
   "cell_type": "code",
   "execution_count": 23,
   "metadata": {},
   "outputs": [
    {
     "name": "stdout",
     "output_type": "stream",
     "text": [
      "fav_languages:pythonc++javacobolswiftvbsql#oracle\n"
     ]
    }
   ],
   "source": [
    "print('fav_languages:pythonc++javacobolswiftvbsql#oracle')"
   ]
  },
  {
   "cell_type": "code",
   "execution_count": 24,
   "metadata": {},
   "outputs": [
    {
     "name": "stdout",
     "output_type": "stream",
     "text": [
      "fav_languages:\n",
      "python\n",
      "c++\n",
      "java\n",
      "cobol\n",
      "swift\n",
      "vb\n",
      "sql\n",
      "oracle\n"
     ]
    }
   ],
   "source": [
    "print('fav_languages:\\npython\\nc++\\njava\\ncobol\\nswift\\nvb\\nsql\\noracle')"
   ]
  },
  {
   "cell_type": "code",
   "execution_count": null,
   "metadata": {},
   "outputs": [],
   "source": [
    "\\n : new line delimieter"
   ]
  },
  {
   "cell_type": "code",
   "execution_count": null,
   "metadata": {},
   "outputs": [],
   "source": []
  },
  {
   "cell_type": "code",
   "execution_count": 25,
   "metadata": {},
   "outputs": [
    {
     "name": "stdout",
     "output_type": "stream",
     "text": [
      "fav_languages:\n",
      "\tpython\n",
      "\tc++\n",
      "\tjava\n",
      "\tcobol\n",
      "\tswift\n",
      "\tvb\n",
      "\tsql\n",
      "\toracle\n"
     ]
    }
   ],
   "source": [
    "print('fav_languages:\\n\\tpython\\n\\tc++\\n\\tjava\\n\\tcobol\\n\\tswift\\n\\tvb\\n\\tsql\\n\\toracle')"
   ]
  },
  {
   "cell_type": "code",
   "execution_count": null,
   "metadata": {},
   "outputs": [],
   "source": [
    "\\t: tab delimieter"
   ]
  },
  {
   "cell_type": "code",
   "execution_count": 28,
   "metadata": {},
   "outputs": [
    {
     "name": "stdout",
     "output_type": "stream",
     "text": [
      "Navya Shah\n"
     ]
    }
   ],
   "source": [
    "f_name = \"Navya\"\n",
    "l_name = 'Shah'\n",
    "Complete_name = f\"{f_name} {l_name}\"\n",
    "print(Complete_name)"
   ]
  },
  {
   "cell_type": "code",
   "execution_count": 29,
   "metadata": {},
   "outputs": [
    {
     "name": "stdout",
     "output_type": "stream",
     "text": [
      "Universe\n",
      "\tGalaxy\n",
      "\tSolar System\n",
      "\tEarth\n",
      "\tAsia\n",
      "\tIndia\n"
     ]
    }
   ],
   "source": [
    "print('Universe\\n\\tGalaxy\\n\\tSolar System\\n\\tEarth\\n\\tAsia\\n\\tIndia')"
   ]
  },
  {
   "cell_type": "code",
   "execution_count": 48,
   "metadata": {},
   "outputs": [
    {
     "name": "stdout",
     "output_type": "stream",
     "text": [
      "Universe\n",
      "\tGalaxy\n",
      "\t\tSolar System\n",
      "\t\t\t\tEarth\n",
      "\t\t\t\t\tAsia\n",
      "\t\t\t\t\t\tIndia\n",
      "\t\t\t\tSun\n",
      "\t\t\tMars\n",
      "\t\tSaturn\n"
     ]
    }
   ],
   "source": [
    "print('Universe\\n\\tGalaxy\\n\\t\\tSolar System\\n\\t\\t\\t\\tEarth\\n\\t\\t\\t\\t\\tAsia\\n\\t\\t\\t\\t\\t\\tIndia\\n\\t\\t\\t\\tSun\\n\\t\\t\\tMars\\n\\t\\tSaturn')"
   ]
  },
  {
   "cell_type": "code",
   "execution_count": 97,
   "metadata": {},
   "outputs": [
    {
     "name": "stdout",
     "output_type": "stream",
     "text": [
      "           .\n",
      "      .        .\n",
      "    .            .\n",
      "   .               .\n",
      "   .               .\n",
      "   .               .\n",
      "    .            .\n",
      "      .        .\n",
      "           .\n"
     ]
    }
   ],
   "source": [
    "print('           .') \n",
    "print('      .        .')\n",
    "print('    .            .') \n",
    "print('   .               .') \n",
    "print('   .               .') \n",
    "print('   .               .') \n",
    "print('    .            .') \n",
    "print('      .        .')\n",
    "print('           .') "
   ]
  },
  {
   "cell_type": "code",
   "execution_count": null,
   "metadata": {},
   "outputs": [],
   "source": []
  },
  {
   "cell_type": "code",
   "execution_count": null,
   "metadata": {},
   "outputs": [],
   "source": []
  },
  {
   "cell_type": "code",
   "execution_count": null,
   "metadata": {},
   "outputs": [],
   "source": []
  }
 ],
 "metadata": {
  "kernelspec": {
   "display_name": "Python 3",
   "language": "python",
   "name": "python3"
  },
  "language_info": {
   "codemirror_mode": {
    "name": "ipython",
    "version": 3
   },
   "file_extension": ".py",
   "mimetype": "text/x-python",
   "name": "python",
   "nbconvert_exporter": "python",
   "pygments_lexer": "ipython3",
   "version": "3.8.3"
  }
 },
 "nbformat": 4,
 "nbformat_minor": 4
}
